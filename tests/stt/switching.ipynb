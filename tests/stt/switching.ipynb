{
 "metadata": {
  "language_info": {
   "codemirror_mode": {
    "name": "ipython",
    "version": 3
   },
   "file_extension": ".py",
   "mimetype": "text/x-python",
   "name": "python",
   "nbconvert_exporter": "python",
   "pygments_lexer": "ipython3",
   "version": "3.9.4"
  },
  "orig_nbformat": 4,
  "kernelspec": {
   "name": "python3",
   "display_name": "Python 3.9.4 64-bit ('.cmtj': conda)"
  },
  "interpreter": {
   "hash": "ad65c57224c4b2ae4ef9215c7eff5fa1624ddecdb314f1b902edc9ad02467d0b"
  }
 },
 "nbformat": 4,
 "nbformat_minor": 2,
 "cells": [
  {
   "cell_type": "code",
   "execution_count": 78,
   "metadata": {},
   "outputs": [],
   "source": [
    "from cmtj import Junction, Layer, CVector, Axis, ScalarDriver, AxialDriver, NullDriver\n",
    "from cmtj.utils.linear import FieldScan\n",
    "from tqdm.notebook import tqdm\n",
    "from scipy.fft import fft, fftfreq\n",
    "import numpy as np \n",
    "import pandas as pd \n",
    "import time "
   ]
  },
  {
   "cell_type": "code",
   "execution_count": 140,
   "metadata": {},
   "outputs": [
    {
     "output_type": "display_data",
     "data": {
      "text/plain": "  0%|          | 0/50 [00:00<?, ?it/s]",
      "application/vnd.jupyter.widget-view+json": {
       "version_major": 2,
       "version_minor": 0,
       "model_id": "24adfdc5906e454e81fce2bc237daf7e"
      }
     },
     "metadata": {}
    }
   ],
   "source": [
    "demagTensor = [\n",
    "    CVector(0., 0., 0.),\n",
    "    CVector(0., 0., 0.),\n",
    "    CVector(0., 0., 1.0)\n",
    "]\n",
    "dipoleTensor = [\n",
    "    CVector(5.57049776248663e-4, 0., 0.),\n",
    "    CVector(0., 0.00125355500286346, 0.),\n",
    "    CVector(0., 0.0, -0.00181060482770131)\n",
    "]\n",
    "\n",
    "damping = 0.03\n",
    "currentDensity = 1e11\n",
    "beta = 1\n",
    "spinPolarisation = 0.9\n",
    "\n",
    "\n",
    "# current driver\n",
    "mag_free = CVector(1, 0, 0)\n",
    "mag_bottom = CVector(1, 0, 0)\n",
    "\n",
    "l1 = Layer.createSTTLayer(id=\"free\", \n",
    "           mag=mag_free, \n",
    "           anis=CVector(0, 0., 1.), \n",
    "           Ms=1.,\n",
    "           thickness=1.e-9, \n",
    "           cellSurface=7e-10 * 7e-10, \n",
    "           demagTensor=demagTensor, \n",
    "           dipoleTensor=dipoleTensor,\n",
    "           damping=damping,\n",
    "           SlonczewskiSpacerLayerParameter=1.0,\n",
    "           spinPolarisation=spinPolarisation,\n",
    "           beta=beta)\n",
    "l2 = Layer(id=\"bottom\", \n",
    "           mag=mag_bottom, \n",
    "           anis=CVector(1., 0., 0.), \n",
    "           Ms=1.2, \n",
    "           thickness=1e-9, \n",
    "           cellSurface=7e-10 * 7e-10, \n",
    "           demagTensor=demagTensor, \n",
    "           dipoleTensor=dipoleTensor)\n",
    "\n",
    "l1.setReferenceLayer(CVector(0, 0., 1.))\n",
    "junction = Junction([l1, l2], \"\", 100, 200)\n",
    "\n",
    "junction.setLayerAnisotropyDriver(\"free\", ScalarDriver.getConstantDriver(550e3))\n",
    "junction.setLayerAnisotropyDriver(\"bottom\", ScalarDriver.getConstantDriver(700e3))\n",
    "junction.setIECDriver(\"free\", \"bottom\", ScalarDriver.getConstantDriver(-4.5e-5))\n",
    "\n",
    "\n",
    "Hscan, Hvecs = FieldScan.amplitude_scan(-800e3, 800e3, 50, 5, 0)\n",
    "\n",
    "int_step = 1e-12 \n",
    "s_time = 4e-9\n",
    "steps = int(s_time / int_step)\n",
    "frequencies = np.arange(0, 48)*1e9\n",
    "D = 25\n",
    "spectrogram = np.zeros((len(Hscan), steps//D))\n",
    "for hi, H in enumerate(tqdm(Hvecs, total=len(Hscan))):\n",
    "    junction.clearLog()\n",
    "    junction.setLayerMagnetisation(\"free\", mag_free)\n",
    "    junction.setLayerMagnetisation(\"bottom\", mag_bottom)\n",
    "    \n",
    "    # set constant current \n",
    "    junction.setLayerCurrentDriver(\"free\", ScalarDriver.getConstantDriver(currentDensity))\n",
    "\n",
    "    HDriver = AxialDriver(\n",
    "        ScalarDriver.getConstantDriver(H[0]),\n",
    "        ScalarDriver.getConstantDriver(H[1]),\n",
    "        ScalarDriver.getConstantDriver(H[2]))\n",
    "\n",
    "    junction.setLayerExternalFieldDriver(\"all\", HDriver)\n",
    "    junction.runSimulation(s_time, int_step, int_step)\n",
    "\n",
    "    mag_free = junction.getLayerMagnetisation(\"free\")\n",
    "    mag_bottom = junction.getLayerMagnetisation(\"bottom\")\n",
    "    \n",
    "    log = junction.getLog()\n",
    "    res = np.asarray(log[\"R_free_bottom\"])\n",
    "    N = len(res)\n",
    "    y = fft(res)*(2/N)\n",
    "    spectrogram[hi, :] = np.abs(y[:N//D])\n",
    "\n",
    "freqs = fftfreq(N, d=int_step)[:N//D]"
   ]
  },
  {
   "cell_type": "code",
   "execution_count": 141,
   "metadata": {},
   "outputs": [
    {
     "output_type": "display_data",
     "data": {
      "text/plain": "VBox(children=(FigureWidget({\n    'data': [{'type': 'heatmap',\n              'uid': '4f7c305b-a7f8-462b-9ca3-3…",
      "application/vnd.jupyter.widget-view+json": {
       "version_major": 2,
       "version_minor": 0,
       "model_id": "e0b4a1bffc904898aca9a5a34871102b"
      }
     },
     "metadata": {}
    }
   ],
   "source": [
    "import plotly.graph_objects as go\n",
    "from ipywidgets import VBox\n",
    "\n",
    "fig = go.Figure(data=go.Heatmap(x=Hscan, y=freqs/1e9, z=spectrogram[:, 1:].T/np.max(spectrogram[:, 1:])))\n",
    "fig = go.FigureWidget(fig)\n",
    "fig['layout'][f'xaxis1'].update(title_text='H [A/m]')\n",
    "fig['layout'][f'yaxis1'].update(title_text='f [GHz]')\n",
    "VBox([fig])"
   ]
  },
  {
   "cell_type": "code",
   "execution_count": null,
   "metadata": {},
   "outputs": [],
   "source": []
  }
 ]
}