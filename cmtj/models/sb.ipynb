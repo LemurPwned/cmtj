{
 "cells": [
  {
   "cell_type": "code",
   "execution_count": null,
   "metadata": {},
   "outputs": [],
   "source": [
    "import sympy as sym\n",
    "\n",
    "# Define the symbols\n",
    "# mx, my, mz = sym.symbols('mx my mz')\n",
    "# hx, hy, hz = sym.symbols('hx hy hz')\n",
    "mu0, Kv, Ks, Ms, J1, J2 = sym.symbols('mu_0 K_v K_s M_s J_1, J_2')\n",
    "theta_m1, phi_m1 = sym.symbols('theta_1 phi_1')\n",
    "theta_m2, phi_m2 = sym.symbols('theta_2 phi_2')\n",
    "theta_h, phi_h = sym.symbols('theta_h phi_h')\n",
    "hx, hy, hz = sym.symbols('h_x h_y h_z')\n",
    "inplane_angle = sym.symbols('alpha')\n",
    "alpha = [sym.cos(inplane_angle), sym.sin(inplane_angle), 0]\n",
    "m1 = sym.Matrix([\n",
    "    sym.sin(theta_m1) * sym.cos(phi_m1),\n",
    "    sym.sin(theta_m1) * sym.sin(phi_m1),\n",
    "    sym.cos(theta_m1)\n",
    "])\n",
    "m2 = sym.Matrix([\n",
    "    sym.sin(theta_m2) * sym.cos(phi_m2),\n",
    "    sym.sin(theta_m2) * sym.sin(phi_m2),\n",
    "    sym.cos(theta_m2)\n",
    "])\n",
    "\n",
    "h = sym.Matrix([\n",
    "    hx, hy, hz\n",
    "    # sym.sin(theta_h) * sym.cos(phi_h),\n",
    "    # sym.sin(theta_h) * sym.sin(phi_h),\n",
    "    # sym.cos(theta_h)\n",
    "])\n",
    "Hdemag = sym.Matrix([0, 0, -m1[2] * Ms])\n",
    "\n",
    "field_energy = -mu0 * Ms * m1.dot(h)\n",
    "demagnetization_energy = -(1. / 2.) * mu0 * Hdemag.dot(m1)\n",
    "surface_anistropy = (-Ks + (1. / 2.) * mu0 * (Ms**2)) * m1[-1]\n",
    "volume_anisotropy = -Kv * m1.dot(alpha)\n",
    "iec_energy = -J1 * m1.dot(m2)\n",
    "iec_quadratic_energy = -J2 * (m1.dot(m2))**2\n",
    "\n",
    "total_energy = field_energy + volume_anisotropy + surface_anistropy + iec_energy + iec_quadratic_energy\n",
    "\n",
    "# Define the magnetic field\n",
    "# H = sym.Matrix([hx, hy, hz])\n",
    "# m = sym.Matrix([mx, my, mz])\n",
    "total_energy"
   ]
  },
  {
   "cell_type": "code",
   "execution_count": null,
   "metadata": {},
   "outputs": [],
   "source": [
    "sym.print_latex(total_energy)"
   ]
  },
  {
   "cell_type": "code",
   "execution_count": null,
   "metadata": {},
   "outputs": [],
   "source": [
    "for energy_tensor, label in zip([\n",
    "        field_energy, volume_anisotropy, surface_anistropy, iec_energy,\n",
    "        iec_quadratic_energy\n",
    "], [\"field\", \"volume\", \"surface\", \"iec\", \"quad iec\"]):\n",
    "    print(f\"\\n{label}\")\n",
    "    sym.print_latex(sym.diff(energy_tensor, theta_m1))\n",
    "    sym.print_latex(sym.diff(energy_tensor, phi_m1))"
   ]
  },
  {
   "cell_type": "code",
   "execution_count": null,
   "metadata": {},
   "outputs": [],
   "source": [
    "first_derivatives = {}\n",
    "second_derivatives = {}\n",
    "dangle = (theta_m1, phi_m1)\n",
    "names = ('dtheta', 'dphi')\n",
    "for energy_tensor, label in zip([\n",
    "        field_energy, volume_anisotropy, surface_anistropy, iec_energy,\n",
    "        iec_quadratic_energy\n",
    "], [\"field\", \"volume\", \"surface\", \"iec\", \"quad iec\"]):\n",
    "    for name, grad in zip(names, dangle):\n",
    "        first_derivatives[f\"{label} {name}\"] = sym.diff(energy_tensor, grad)\n",
    "        for name2, grad2 in zip(names, dangle):\n",
    "            second_derivatives[f\"{label} {name} {name2}\"] = sym.diff(\n",
    "                first_derivatives[f\"{label} {name}\"], grad2)\n"
   ]
  },
  {
   "cell_type": "code",
   "execution_count": null,
   "metadata": {},
   "outputs": [],
   "source": [
    "for k, v in second_derivatives.items():\n",
    "    print(f\"\\n{k}\")\n",
    "    sym.print_latex(v)"
   ]
  },
  {
   "cell_type": "code",
   "execution_count": null,
   "metadata": {},
   "outputs": [],
   "source": [
    "first_derivatives = {}\n",
    "second_derivatives = {}\n",
    "dangle = (theta_m1, phi_m1)\n",
    "for grad in dangle:\n",
    "    first_derivatives[grad] = sym.diff(total_energy, grad)\n",
    "    for grad2 in dangle:\n",
    "        second_derivatives[(grad, grad2)] = sym.diff(first_derivatives[grad],\n",
    "                                                     grad2)"
   ]
  },
  {
   "cell_type": "code",
   "execution_count": null,
   "metadata": {},
   "outputs": [],
   "source": [
    "for der, val in second_derivatives.items():\n",
    "    print(\"\\nDERIVATIVE OF ENERGY WITH RESPECT TO\", der)\n",
    "    print(sym.print_latex(sym.simplify(val)))"
   ]
  },
  {
   "cell_type": "markdown",
   "metadata": {},
   "source": [
    "# Numerical tests"
   ]
  },
  {
   "cell_type": "code",
   "execution_count": null,
   "metadata": {},
   "outputs": [],
   "source": [
    "from cmtj.models.sb import *\n",
    "from cmtj.utils import mu0\n",
    "import matplotlib.pyplot as plt\n",
    "import numpy as np\n",
    "\n",
    "layer = LayerSB(\n",
    "    thickness=1e-9,\n",
    "    m=VectorObj(np.deg2rad(89), np.deg2rad(0)),\n",
    "    Kv=VectorObj(np.deg2rad(3), np.deg2rad(45), 1e4),\n",
    "    Ks=3e3,\n",
    "    Ms=1,\n",
    ")\n",
    "model = SmitBeljersModel(layers=[layer],\n",
    "                         eta=1e-2,\n",
    "                         Hext=VectorObj(np.deg2rad(45),\n",
    "                                        np.deg2rad(15),\n",
    "                                        mag=100e3))\n",
    "\n",
    "# model.gradient_descent(max_steps=1e9, tol=1e-2)\n",
    "model.adam_gradient_descent(max_steps=1e9, tol=1e-8, learning_rate=1e-4)\n",
    "with plt.style.context(['science', 'nature']):\n",
    "    fig, ax = plt.subplots(dpi=300)\n",
    "    ax2 = ax.twinx()\n",
    "    ax2.plot(model.history['energy_0'], color='lavender')\n",
    "    ax.plot(np.rad2deg(model.history['theta_0']),\n",
    "            color='crimson',\n",
    "            label=r'$\\theta$')\n",
    "    ax.plot(np.rad2deg(model.history['phi_0']),\n",
    "            color='royalblue',\n",
    "            label=r'$\\phi$')\n",
    "\n",
    "    ax.set_xlabel(\"Iteration\")\n",
    "    ax.set_ylabel(\"Angle ($^\\circ$)\")\n",
    "    ax2.set_ylabel(\"Energy ($\\mu J/m^3$)\")\n",
    "    ax.legend()"
   ]
  },
  {
   "cell_type": "code",
   "execution_count": null,
   "metadata": {},
   "outputs": [],
   "source": [
    "with plt.style.context(['science', 'nature']):\n",
    "    fig, ax = plt.subplots(dpi=300)\n",
    "    # for label in model.ener_labels:\n",
    "        # ax.plot(model.history[f'energy_{label}_0'], label=label)\n",
    "    ax.plot(model.history['energy_volume_0'], label='total')\n",
    "    ax.set_ylabel(\"Energy ($\\mu J/m^3$)\")\n",
    "    ax.legend()"
   ]
  },
  {
   "cell_type": "code",
   "execution_count": 1,
   "metadata": {},
   "outputs": [],
   "source": [
    "from cmtj.models.sb import *\n",
    "from cmtj.utils import mu0\n",
    "import matplotlib.pyplot as plt\n",
    "from tqdm import tqdm \n",
    "import numpy as np\n",
    "\n",
    "layerA = LayerSB(\n",
    "    thickness=1e-9,\n",
    "    m=VectorObj(np.deg2rad(89), np.deg2rad(10)),\n",
    "    Kv=VectorObj(np.deg2rad(0), np.deg2rad(90), 1e3),\n",
    "    Ks=30e3,\n",
    "    Ms=1.2,\n",
    ")\n",
    "layerB = LayerSB(\n",
    "    thickness=1e-9,\n",
    "    m=VectorObj(np.deg2rad(89), np.deg2rad(10)),\n",
    "    Kv=VectorObj(np.deg2rad(0), np.deg2rad(90), 1e6),\n",
    "    Ks=0,\n",
    "    Ms=1.3,\n",
    ")\n",
    "ms, fs = [], []\n",
    "Hspace = np.linspace(-800e3, 800e3, 50)\n",
    "for Hmag in tqdm(Hspace, desc=\"Field scan\"):\n",
    "    model = SmitBeljersModel(layers=[layerA, layerB],\n",
    "                             J=[1e-6],\n",
    "                             eta=1e-2,\n",
    "                             Hext=VectorObj(np.deg2rad(0),\n",
    "                                            np.deg2rad(45),\n",
    "                                            mag=Hmag),\n",
    "                             silent=True)\n",
    "    model.adam_gradient_descent(max_steps=1e9, tol=1e-8, learning_rate=1e-5)\n",
    "    mvector = VectorObj.from_spherical(model.history['theta_0'][-1],\n",
    "                                       model.history['phi_0'][-1])\n",
    "    ms.append(mvector)\n",
    "    fs.append(model.get_fmr(0))"
   ]
  },
  {
   "cell_type": "code",
   "execution_count": null,
   "metadata": {},
   "outputs": [],
   "source": [
    "with plt.style.context(['science', 'nature']):\n",
    "    fig, ax = plt.subplots(dpi=300)\n",
    "    ax2 = ax.twinx()\n",
    "    ax2.plot(Hspace / 1e3, np.asarray(fs)/1e3, color='crimson', label='f')\n",
    "    ax.plot(\n",
    "        Hspace / 1e3,\n",
    "        np.asarray(ms)[:, 2],\n",
    "        \n",
    "    )\n",
    "\n",
    "    ax.set_xlabel(\"Field [A/m]\")\n",
    "    ax.set_ylabel(\"m [a.u.]\")\n",
    "    ax2.set_ylabel(\"Frequency [GHz]\")\n",
    "    ax2.legend()"
   ]
  },
  {
   "cell_type": "code",
   "execution_count": null,
   "metadata": {},
   "outputs": [],
   "source": []
  }
 ],
 "metadata": {
  "kernelspec": {
   "display_name": "Python 3.9.6 ('.cmtj')",
   "language": "python",
   "name": "python3"
  },
  "language_info": {
   "codemirror_mode": {
    "name": "ipython",
    "version": 3
   },
   "file_extension": ".py",
   "mimetype": "text/x-python",
   "name": "python",
   "nbconvert_exporter": "python",
   "pygments_lexer": "ipython3",
   "version": "3.9.6"
  },
  "orig_nbformat": 4,
  "vscode": {
   "interpreter": {
    "hash": "abaa7d46921c8025d54a73f117b26d64d70a7d25e7311b2ccaaa2569eea9e65c"
   }
  }
 },
 "nbformat": 4,
 "nbformat_minor": 2
}
